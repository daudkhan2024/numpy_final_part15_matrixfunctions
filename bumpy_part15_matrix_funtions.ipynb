{
 "cells": [
  {
   "cell_type": "markdown",
   "id": "d2733a57",
   "metadata": {},
   "source": [
    "#### Transpose matrix"
   ]
  },
  {
   "cell_type": "code",
   "execution_count": 1,
   "id": "27950961",
   "metadata": {},
   "outputs": [],
   "source": [
    "import numpy as np"
   ]
  },
  {
   "cell_type": "code",
   "execution_count": 6,
   "id": "e3796d55",
   "metadata": {},
   "outputs": [
    {
     "name": "stdout",
     "output_type": "stream",
     "text": [
      "[[1 2 3]\n",
      " [5 6 7]]\n",
      "\n",
      "[[1 5]\n",
      " [2 6]\n",
      " [3 7]]\n",
      "\n",
      "another shortcutway\n",
      "[[1 5]\n",
      " [2 6]\n",
      " [3 7]]\n"
     ]
    }
   ],
   "source": [
    "var = np.matrix([[1,2,3],[5,6,7]])\n",
    "print(var)\n",
    "print()\n",
    "\n",
    "\n",
    "print(np.transpose(var))\n",
    "print()\n",
    "print(\"another shortcutway\")\n",
    "print(var.T)"
   ]
  },
  {
   "cell_type": "markdown",
   "id": "0d5fef48",
   "metadata": {},
   "source": [
    "### swapaxes"
   ]
  },
  {
   "cell_type": "code",
   "execution_count": 8,
   "id": "bda5c4d2",
   "metadata": {},
   "outputs": [
    {
     "name": "stdout",
     "output_type": "stream",
     "text": [
      "[[1 5]\n",
      " [2 6]\n",
      " [3 7]]\n"
     ]
    }
   ],
   "source": [
    "print(np.swapaxes(var,0,1))"
   ]
  },
  {
   "cell_type": "markdown",
   "id": "5413d205",
   "metadata": {},
   "source": [
    "### square matrix"
   ]
  },
  {
   "cell_type": "code",
   "execution_count": 9,
   "id": "b0ea4019",
   "metadata": {},
   "outputs": [
    {
     "name": "stdout",
     "output_type": "stream",
     "text": [
      "[[1, 2], [3, 4]]\n",
      "\n",
      "[[1 3]\n",
      " [2 4]]\n"
     ]
    }
   ],
   "source": [
    "var2 = ([[1,2],[3,4]])\n",
    "print(var2)\n",
    "print()\n",
    "\n",
    "print(np.swapaxes(var2,0,1))"
   ]
  },
  {
   "cell_type": "markdown",
   "id": "507cae69",
   "metadata": {},
   "source": [
    "### inverse matrix"
   ]
  },
  {
   "cell_type": "code",
   "execution_count": 10,
   "id": "bdde9d0b",
   "metadata": {},
   "outputs": [],
   "source": [
    "# A power -1"
   ]
  },
  {
   "cell_type": "code",
   "execution_count": 20,
   "id": "98b26592",
   "metadata": {},
   "outputs": [
    {
     "name": "stdout",
     "output_type": "stream",
     "text": [
      "[[1 2]\n",
      " [3 4]]\n",
      "\n",
      "inverse matrix : [[-2.   1. ]\n",
      " [ 1.5 -0.5]]\n"
     ]
    }
   ],
   "source": [
    "var3 = np.matrix([[1,2],[3,4]])\n",
    "print(var3) \n",
    "print()\n",
    "\n",
    "\n",
    "print(\"inverse matrix :\",np.linalg.inv(var3))"
   ]
  },
  {
   "cell_type": "markdown",
   "id": "9fb617f9",
   "metadata": {},
   "source": [
    "### power matrix"
   ]
  },
  {
   "cell_type": "code",
   "execution_count": 19,
   "id": "55c56cf6",
   "metadata": {},
   "outputs": [],
   "source": [
    "#A  square = AA"
   ]
  },
  {
   "cell_type": "code",
   "execution_count": 28,
   "id": "41d2b4f8",
   "metadata": {},
   "outputs": [
    {
     "name": "stdout",
     "output_type": "stream",
     "text": [
      "[[1 2]\n",
      " [3 4]]\n",
      "\n",
      "power matrix :  [[ 7 10]\n",
      " [15 22]]\n",
      "power matrix n=0 ,identity matrix:  [[1 0]\n",
      " [0 1]]\n",
      "power matrix= inverse * -ive power :  [[ 5.5  -2.5 ]\n",
      " [-3.75  1.75]]\n"
     ]
    }
   ],
   "source": [
    "var4 = np.matrix([[1,2],[3,4]])\n",
    "print(var4)\n",
    "print()\n",
    "\n",
    "print(\"power matrix : \",np.linalg.matrix_power(var4,2))\n",
    "print(\"power matrix n=0 ,identity matrix: \",np.linalg.matrix_power(var4,0))\n",
    "print(\"power matrix= inverse * -ive power : \",np.linalg.matrix_power(var4,-2))"
   ]
  },
  {
   "cell_type": "markdown",
   "id": "00565adb",
   "metadata": {},
   "source": [
    "### determinent of matrix "
   ]
  },
  {
   "cell_type": "code",
   "execution_count": 30,
   "id": "1d3e6802",
   "metadata": {},
   "outputs": [
    {
     "name": "stdout",
     "output_type": "stream",
     "text": [
      "[[1 2]\n",
      " [3 4]]\n",
      "\n",
      "determinent :  -2.0000000000000004\n"
     ]
    }
   ],
   "source": [
    "var5 = np.matrix([[1,2],[3,4]])\n",
    "print(var5)\n",
    "print()\n",
    "\n",
    "print(\"determinent : \",np.linalg.det(var5))"
   ]
  },
  {
   "cell_type": "code",
   "execution_count": null,
   "id": "9c9cc932",
   "metadata": {},
   "outputs": [],
   "source": []
  },
  {
   "cell_type": "code",
   "execution_count": null,
   "id": "0b492802",
   "metadata": {},
   "outputs": [],
   "source": []
  }
 ],
 "metadata": {
  "kernelspec": {
   "display_name": "Python 3 (ipykernel)",
   "language": "python",
   "name": "python3"
  },
  "language_info": {
   "codemirror_mode": {
    "name": "ipython",
    "version": 3
   },
   "file_extension": ".py",
   "mimetype": "text/x-python",
   "name": "python",
   "nbconvert_exporter": "python",
   "pygments_lexer": "ipython3",
   "version": "3.9.12"
  }
 },
 "nbformat": 4,
 "nbformat_minor": 5
}
